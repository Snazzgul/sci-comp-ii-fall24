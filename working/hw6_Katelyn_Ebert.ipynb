{
 "cells": [
  {
   "cell_type": "markdown",
   "metadata": {},
   "source": [
    "### PH464/564: Scientific Computing II\n",
    "***J.S. Hazboun***\n",
    "#### Katelyn Ebert\n",
    "___\n",
    "\n",
    "# Lecture/Homework 06\n",
    "### Due: Friday, November 22nd at 11:59pm Pacific\n",
    "---"
   ]
  },
  {
   "cell_type": "markdown",
   "metadata": {},
   "source": [
    "# Identifying M4 cluster members w/ Dense Neural Networks\n",
    "\n",
    "_NOTE_: I don't include the data here to keep things small.  Please get the data from the [class repo](https://github.com/uo-phys/sci-comp-spring23).\n",
    "\n",
    "Demonstrate the use of a densely connected neural network, like the one we trained on the MNIST data set, for classifying stars in the M4 cluster using Gaia's measurements of stars' locations on the sky (right ascension and declination).  This is basically a repeat of what we covered in class, but this time I want you to even out the training set to include roughly equal numbers of M4 members and non-members.\n",
    "\n",
    "1. What training and validation accuracies are you able to achieve?\n",
    "\n",
    "2. Is your trained model confident that any of the stars in your test set are part of M4?\n",
    "\n",
    "3. What did your model learn?  Can you come up with a useful way to probe your model and visualize the results to answer this question?\n",
    "\n",
    "4. Do you think more sophisticated models could do better with this classification task using only sky positions?  Use the properties of the training set to make your argument.\n",
    "\n",
    "**510 students:**\n",
    "\n",
    "Make use of other features observed by Gaia to improve your classifier.  Be sure to use the data model documentation to understand what each feature is, and explain why you think it would be useful for identifying cluster members.  What training and validation accuracies can you achieve?  Does your trained model find any stars it believes are confidently in M4 that weren't in the M4 catalog?"
   ]
  },
  {
   "cell_type": "code",
   "execution_count": 1,
   "metadata": {},
   "outputs": [],
   "source": [
    "# All the imports!\n",
    "import numpy as np \n",
    "from matplotlib import pyplot as plt\n",
    "%matplotlib inline\n",
    "%config InlineBackend.figure_format='retina'\n",
    "\n",
    "import scipy.stats\n",
    "from scipy.stats import norm\n",
    "from scipy.stats import uniform\n",
    "from astroML import stats as astroMLstats\n",
    "import math\n",
    "import seaborn as sns"
   ]
  },
  {
   "cell_type": "code",
   "execution_count": null,
   "metadata": {},
   "outputs": [],
   "source": [
    "import numpy as np\n",
    "from scipy.special import expit\n",
    "from scipy.optimize import minimize\n",
    "\n",
    "import matplotlib as mpl\n",
    "import matplotlib.pyplot as plt"
   ]
  },
  {
   "cell_type": "code",
   "execution_count": null,
   "metadata": {},
   "outputs": [],
   "source": [
    "https://github.com/uo-phys/sci-comp-spring23/tree/main/data"
   ]
  }
 ],
 "metadata": {
  "anaconda-cloud": {},
  "kernelspec": {
   "display_name": "scicomp",
   "language": "python",
   "name": "python3"
  },
  "language_info": {
   "codemirror_mode": {
    "name": "ipython",
    "version": 3
   },
   "file_extension": ".py",
   "mimetype": "text/x-python",
   "name": "python",
   "nbconvert_exporter": "python",
   "pygments_lexer": "ipython3",
   "version": "3.10.15"
  }
 },
 "nbformat": 4,
 "nbformat_minor": 2
}
