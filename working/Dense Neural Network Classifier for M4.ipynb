{
 "cells": [
  {
   "cell_type": "code",
   "execution_count": 1,
   "metadata": {},
   "outputs": [],
   "source": [
    "import numpy as np\n",
    "\n",
    "import jax\n",
    "import jax.numpy as jnp\n",
    "\n",
    "import pandas as pd\n",
    "import matplotlib.pyplot as plt\n",
    "\n",
    "import tensorflow as tf\n",
    "\n",
    "from flax import linen as nn"
   ]
  },
  {
   "attachments": {},
   "cell_type": "markdown",
   "metadata": {},
   "source": [
    "# M4\n",
    "\n",
    "With its second data release the Gaia collaboration published [a paper](https://www.aanda.org/articles/aa/abs/2018/08/aa32698-18/aa32698-18.html) where they looked at the kinematics of many globular clusters.  The data release associated with the paper can be found [here](http://cdsarc.u-strasbg.fr/viz-bin/qcat?J/A+A/616/A12), and includes tables of members identified for each cluster they studied.  Let's focus on M4 (a.k.a. NGC 6121), the file for which can be found [here](http://cdsarc.u-strasbg.fr/ftp/J/A+A/616/A12/files/NGC6121-1.dat).\n",
    "\n",
    "```bash\n",
    "!wget http://cdsarc.u-strasbg.fr/ftp/J/A+A/616/A12/files/NGC6121-1.dat -O ../data/NGC6121-1.dat\n",
    "```"
   ]
  },
  {
   "cell_type": "code",
   "execution_count": 2,
   "metadata": {},
   "outputs": [
    {
     "name": "stdout",
     "output_type": "stream",
     "text": [
      "6045504229661220736 245.99162               -26.34434           18.438   \n",
      "6045504981264184192 246.03035               -26.28057           18.769   \n",
      "6045508902585952640 245.88761               -26.24297           19.072   \n",
      "6045507180287440000 245.85343               -26.28453           18.495   \n",
      "6045503473747038464 245.87124               -26.34628           17.163   \n",
      "6045504229661219200 245.99971               -26.34076           17.441   \n",
      "6045507459476748288 245.78997               -26.31094           18.499   \n",
      "6045504160935345408 246.00232               -26.35289           18.593   \n",
      "6045508077952053760 245.82044               -26.26234           17.033   \n",
      "6045504229661219712 245.99428               -26.34374           17.094   \n"
     ]
    }
   ],
   "source": [
    "!head ../data/NGC6121-1.dat"
   ]
  },
  {
   "attachments": {},
   "cell_type": "markdown",
   "metadata": {},
   "source": [
    "This looks like a fixed-width ASCII file, and if we look at the `README` for the data release we see that the columns are `source_id` (which matches to the IDs in the full Gaia catalog), right-ascension, declination, and G-band magnitude magnitude.  Let's read it in."
   ]
  },
  {
   "cell_type": "code",
   "execution_count": 3,
   "metadata": {},
   "outputs": [
    {
     "data": {
      "text/html": [
       "<div>\n",
       "<style scoped>\n",
       "    .dataframe tbody tr th:only-of-type {\n",
       "        vertical-align: middle;\n",
       "    }\n",
       "\n",
       "    .dataframe tbody tr th {\n",
       "        vertical-align: top;\n",
       "    }\n",
       "\n",
       "    .dataframe thead th {\n",
       "        text-align: right;\n",
       "    }\n",
       "</style>\n",
       "<table border=\"1\" class=\"dataframe\">\n",
       "  <thead>\n",
       "    <tr style=\"text-align: right;\">\n",
       "      <th></th>\n",
       "      <th>source_id</th>\n",
       "      <th>ra</th>\n",
       "      <th>dec</th>\n",
       "      <th>phot_g_mean_mag</th>\n",
       "    </tr>\n",
       "  </thead>\n",
       "  <tbody>\n",
       "    <tr>\n",
       "      <th>0</th>\n",
       "      <td>6045504229661220736</td>\n",
       "      <td>245.99162</td>\n",
       "      <td>-26.34434</td>\n",
       "      <td>18.438</td>\n",
       "    </tr>\n",
       "    <tr>\n",
       "      <th>1</th>\n",
       "      <td>6045504981264184192</td>\n",
       "      <td>246.03035</td>\n",
       "      <td>-26.28057</td>\n",
       "      <td>18.769</td>\n",
       "    </tr>\n",
       "    <tr>\n",
       "      <th>2</th>\n",
       "      <td>6045508902585952640</td>\n",
       "      <td>245.88761</td>\n",
       "      <td>-26.24297</td>\n",
       "      <td>19.072</td>\n",
       "    </tr>\n",
       "    <tr>\n",
       "      <th>3</th>\n",
       "      <td>6045507180287440000</td>\n",
       "      <td>245.85343</td>\n",
       "      <td>-26.28453</td>\n",
       "      <td>18.495</td>\n",
       "    </tr>\n",
       "    <tr>\n",
       "      <th>4</th>\n",
       "      <td>6045503473747038464</td>\n",
       "      <td>245.87124</td>\n",
       "      <td>-26.34628</td>\n",
       "      <td>17.163</td>\n",
       "    </tr>\n",
       "    <tr>\n",
       "      <th>...</th>\n",
       "      <td>...</td>\n",
       "      <td>...</td>\n",
       "      <td>...</td>\n",
       "      <td>...</td>\n",
       "    </tr>\n",
       "    <tr>\n",
       "      <th>19503</th>\n",
       "      <td>6045337962873610240</td>\n",
       "      <td>245.13976</td>\n",
       "      <td>-27.09970</td>\n",
       "      <td>19.705</td>\n",
       "    </tr>\n",
       "    <tr>\n",
       "      <th>19504</th>\n",
       "      <td>6045298891556291712</td>\n",
       "      <td>245.48339</td>\n",
       "      <td>-27.19208</td>\n",
       "      <td>19.493</td>\n",
       "    </tr>\n",
       "    <tr>\n",
       "      <th>19505</th>\n",
       "      <td>6045305866578950784</td>\n",
       "      <td>245.69445</td>\n",
       "      <td>-27.06942</td>\n",
       "      <td>18.290</td>\n",
       "    </tr>\n",
       "    <tr>\n",
       "      <th>19506</th>\n",
       "      <td>6045303774938119808</td>\n",
       "      <td>245.80824</td>\n",
       "      <td>-27.07275</td>\n",
       "      <td>19.267</td>\n",
       "    </tr>\n",
       "    <tr>\n",
       "      <th>19507</th>\n",
       "      <td>6045285869214078464</td>\n",
       "      <td>245.96429</td>\n",
       "      <td>-27.25238</td>\n",
       "      <td>17.112</td>\n",
       "    </tr>\n",
       "  </tbody>\n",
       "</table>\n",
       "<p>19508 rows × 4 columns</p>\n",
       "</div>"
      ],
      "text/plain": [
       "                 source_id         ra       dec  phot_g_mean_mag\n",
       "0      6045504229661220736  245.99162 -26.34434           18.438\n",
       "1      6045504981264184192  246.03035 -26.28057           18.769\n",
       "2      6045508902585952640  245.88761 -26.24297           19.072\n",
       "3      6045507180287440000  245.85343 -26.28453           18.495\n",
       "4      6045503473747038464  245.87124 -26.34628           17.163\n",
       "...                    ...        ...       ...              ...\n",
       "19503  6045337962873610240  245.13976 -27.09970           19.705\n",
       "19504  6045298891556291712  245.48339 -27.19208           19.493\n",
       "19505  6045305866578950784  245.69445 -27.06942           18.290\n",
       "19506  6045303774938119808  245.80824 -27.07275           19.267\n",
       "19507  6045285869214078464  245.96429 -27.25238           17.112\n",
       "\n",
       "[19508 rows x 4 columns]"
      ]
     },
     "execution_count": 3,
     "metadata": {},
     "output_type": "execute_result"
    }
   ],
   "source": [
    "m4_df = pd.read_fwf('../data/NGC6121-1.dat', names=['source_id', 'ra', 'dec', 'phot_g_mean_mag'])\n",
    "m4_df"
   ]
  },
  {
   "cell_type": "code",
   "execution_count": 4,
   "metadata": {},
   "outputs": [
    {
     "data": {
      "image/png": "[encoded data removed]",
      "text/plain": [
       "<Figure size 640x480 with 1 Axes>"
      ]
     },
     "metadata": {},
     "output_type": "display_data"
    }
   ],
   "source": [
    "plt.scatter(m4_df.ra, m4_df.dec, s=0.0001)\n",
    "plt.gca().invert_xaxis()"
   ]
  },
  {
   "attachments": {},
   "cell_type": "markdown",
   "metadata": {},
   "source": [
    "That looks pretty globular clustery to me.  Let's now pull objects from the Gaia catalog in a box around this location, specifically a 3 degree x 3 degree box centered at `RA=246, dec=-26.5`.  We'll grab object IDs, sky locations, parallaxes, errors, proper motions, etc.\n",
    "\n",
    "The data corresponding to the query below can be found [here](https://scicomp.gw.observer/view/data/m4_gaia_source.csv).\n",
    "\n",
    "```sql\n",
    "SELECT TOP 1000000 gaia_source.designation,gaia_source.source_id,gaia_source.ra,gaia_source.dec,gaia_source.parallax,gaia_source.parallax_error,gaia_source.parallax_over_error,gaia_source.pm,gaia_source.pmra,gaia_source.pmra_error,gaia_source.pmdec,gaia_source.pmdec_error,gaia_source.astrometric_n_good_obs_al,gaia_source.astrometric_chi2_al,gaia_source.visibility_periods_used,gaia_source.phot_g_mean_flux_over_error,gaia_source.phot_g_mean_mag,gaia_source.phot_bp_mean_flux_over_error,gaia_source.phot_bp_mean_mag,gaia_source.phot_rp_mean_flux_over_error,gaia_source.phot_rp_mean_mag,gaia_source.phot_bp_rp_excess_factor,gaia_source.bp_rp,gaia_source.dr2_radial_velocity,gaia_source.dr2_radial_velocity_error\n",
    "FROM gaiaedr3.gaia_source \n",
    "WHERE \n",
    "CONTAINS(\n",
    "\tPOINT('ICRS',gaiaedr3.gaia_source.ra,gaiaedr3.gaia_source.dec),\n",
    "\tBOX('ICRS',246,-26.5,3,3)\n",
    ")=1\n",
    "```"
   ]
  },
  {
   "cell_type": "code",
   "execution_count": 7,
   "metadata": {},
   "outputs": [
    {
     "data": {
      "text/html": [
       "<div>\n",
       "<style scoped>\n",
       "    .dataframe tbody tr th:only-of-type {\n",
       "        vertical-align: middle;\n",
       "    }\n",
       "\n",
       "    .dataframe tbody tr th {\n",
       "        vertical-align: top;\n",
       "    }\n",
       "\n",
       "    .dataframe thead th {\n",
       "        text-align: right;\n",
       "    }\n",
       "</style>\n",
       "<table border=\"1\" class=\"dataframe\">\n",
       "  <thead>\n",
       "    <tr style=\"text-align: right;\">\n",
       "      <th></th>\n",
       "      <th>version https://git-lfs.github.com/spec/v1</th>\n",
       "    </tr>\n",
       "  </thead>\n",
       "  <tbody>\n",
       "    <tr>\n",
       "      <th>0</th>\n",
       "      <td>oid sha256:4cff3a65dd86acf0f40387fe7945936f32c...</td>\n",
       "    </tr>\n",
       "    <tr>\n",
       "      <th>1</th>\n",
       "      <td>size 134155852</td>\n",
       "    </tr>\n",
       "  </tbody>\n",
       "</table>\n",
       "</div>"
      ],
      "text/plain": [
       "          version https://git-lfs.github.com/spec/v1\n",
       "0  oid sha256:4cff3a65dd86acf0f40387fe7945936f32c...\n",
       "1                                     size 134155852"
      ]
     },
     "execution_count": 7,
     "metadata": {},
     "output_type": "execute_result"
    }
   ],
   "source": [
    "df = pd.read_csv('m4_gaia_source.csv')\n",
    "df"
   ]
  },
  {
   "cell_type": "code",
   "execution_count": null,
   "metadata": {
    "scrolled": true
   },
   "outputs": [],
   "source": [
    "plt.scatter(df.ra, df.dec, s=0.0001)\n",
    "plt.gca().invert_xaxis()"
   ]
  },
  {
   "attachments": {},
   "cell_type": "markdown",
   "metadata": {},
   "source": [
    "It looks like we were successful in finding M4, and another cluster may have come along for the ride."
   ]
  },
  {
   "attachments": {},
   "cell_type": "markdown",
   "metadata": {},
   "source": [
    "# Dense neural network classifiers\n",
    "\n",
    "Let's try to build a classifier that, given a star's properties available in the full Gaia catalog, is able to predict whether that star is a member of the globular cluster (we're focusing on M4 specifically at the moment, but generalizing what can be learned here to other clusters would make it a powerful tool!).\n",
    "\n",
    "First we'll need to perform the cross-matching between the two data sets.  Since we'll want to train on values from the full Gaia catalog, it will be useful to construct a selection array that selects for the cluster members identified in the M4 mini-catalog.  We'll use `pandas` `.isin()` methods to do this."
   ]
  },
  {
   "cell_type": "code",
   "execution_count": null,
   "metadata": {},
   "outputs": [],
   "source": [
    "m4_sel = df['source_id'].isin(m4_df.source_id)\n",
    "print(np.count_nonzero(m4_sel))"
   ]
  },
  {
   "cell_type": "code",
   "execution_count": null,
   "metadata": {},
   "outputs": [],
   "source": [
    "plt.scatter(df.ra[~m4_sel], df.dec[~m4_sel], s=0.0001)\n",
    "plt.scatter(df.ra[m4_sel], df.dec[m4_sel], s=0.0001)\n",
    "plt.gca().invert_xaxis()"
   ]
  },
  {
   "attachments": {},
   "cell_type": "markdown",
   "metadata": {},
   "source": [
    "Sweet.  Let's start off simple and build a classifier based on sky position only."
   ]
  },
  {
   "cell_type": "code",
   "execution_count": null,
   "metadata": {},
   "outputs": [],
   "source": [
    "df.columns"
   ]
  },
  {
   "cell_type": "code",
   "execution_count": null,
   "metadata": {},
   "outputs": [],
   "source": [
    "params = ['ra', 'dec']\n",
    "X = np.array(df[params])\n",
    "X.shape"
   ]
  },
  {
   "attachments": {},
   "cell_type": "markdown",
   "metadata": {},
   "source": [
    "It's always good to check for missing values."
   ]
  },
  {
   "cell_type": "code",
   "execution_count": null,
   "metadata": {},
   "outputs": [],
   "source": [
    "np.count_nonzero(np.any(np.isnan(X), axis=1))"
   ]
  },
  {
   "attachments": {},
   "cell_type": "markdown",
   "metadata": {},
   "source": [
    "It doesn't look like we have any yet, but if we try including other data columns we'll find lots.  The information available for each object in the catalog depends on how many times the object was observed (indicated by `visibility_periods_used`).  For example, an object observed only once would have a measured location (RA and dec), but no proper motion, etc.  If there _were_ missing values, we would remove them like so."
   ]
  },
  {
   "cell_type": "code",
   "execution_count": null,
   "metadata": {},
   "outputs": [],
   "source": [
    "nans = np.any(np.isnan(X), axis=1)\n",
    "X = X[~nans]\n",
    "\n",
    "n_classes = 2\n",
    "y = m4_sel.astype(int)[~nans]"
   ]
  },
  {
   "attachments": {},
   "cell_type": "markdown",
   "metadata": {},
   "source": [
    "Let's standardize our data by transforming it to have a $\\vec{0}$ mean and unit 1-D variances."
   ]
  },
  {
   "cell_type": "code",
   "execution_count": null,
   "metadata": {},
   "outputs": [],
   "source": [
    "from sklearn.preprocessing import StandardScaler"
   ]
  },
  {
   "cell_type": "code",
   "execution_count": null,
   "metadata": {},
   "outputs": [],
   "source": [
    "transformer = StandardScaler()\n",
    "\n",
    "X = transformer.fit_transform(X)"
   ]
  },
  {
   "attachments": {},
   "cell_type": "markdown",
   "metadata": {},
   "source": [
    "Now we'll randomly select $10\\%$ of the data to reserve for testing and use the rest for training.  We also need to prepare our output vectors.  In this case we have a simple binary classification task, but to simplify the transition from our previous use of a dense NN to classify handwritten digits, let's treat the problem as if it's a multi-class problem, i.e., use two output nodes and integer labels."
   ]
  },
  {
   "cell_type": "code",
   "execution_count": null,
   "metadata": {},
   "outputs": [],
   "source": [
    "m = X.shape[0]\n",
    "test_frac = 0.1\n",
    "test_sel = np.random.choice([True, False], size=m, p=[test_frac, 1-test_frac])\n",
    "X_tst = X[test_sel]\n",
    "X_train = X[~test_sel]\n",
    "\n",
    "y_tst = y[test_sel]\n",
    "y_train = y[~test_sel]"
   ]
  },
  {
   "attachments": {},
   "cell_type": "markdown",
   "metadata": {},
   "source": [
    "..."
   ]
  },
  {
   "cell_type": "code",
   "execution_count": null,
   "metadata": {},
   "outputs": [],
   "source": [
    "X_train = jnp.array(X_train)\n",
    "X_tst = jnp.array(X_tst)\n",
    "y_train = jnp.array(y_train)\n",
    "y_tst = jnp.array(y_tst)"
   ]
  },
  {
   "attachments": {},
   "cell_type": "markdown",
   "metadata": {},
   "source": [
    "Where for MNIST we used builtin methods from `tensorflow_datasets` to batch our data, we'll need to do our own batching here.  We'll make a new dimension to the data that will cover batches, and we'll drop the leftover bits that don't divide evenly."
   ]
  },
  {
   "cell_type": "code",
   "execution_count": null,
   "metadata": {},
   "outputs": [],
   "source": [
    "batch_size = 64\n",
    "n_batches = X_train.shape[0] // batch_size\n",
    "\n",
    "X_train = X_train[:n_batches * batch_size].reshape((n_batches, batch_size, *X_train.shape[1:]))\n",
    "y_train = y_train[:n_batches * batch_size].reshape((n_batches, batch_size, *y_train.shape[1:]))\n",
    "X_train.shape, y_train.shape"
   ]
  },
  {
   "attachments": {},
   "cell_type": "markdown",
   "metadata": {},
   "source": [
    "We now have everything prepared for model training.  Let's start off with the same basic architecture we used in the previous example, with fewer nodes in our hidden layers (we only have 2 input features, compared to all the pixels with the MNIST data)."
   ]
  },
  {
   "cell_type": "code",
   "execution_count": null,
   "metadata": {},
   "outputs": [],
   "source": [
    "n_classes = 2\n",
    "\n",
    "class DenseClassifier(nn.Module):\n",
    "    \"\"\"A simple dense classifier.\"\"\"\n",
    "\n",
    "    @nn.compact\n",
    "    def __call__(self, x):\n",
    "        x = nn.Dense(10)(x)\n",
    "        x = nn.relu(x)\n",
    "        x = nn.Dense(10)(x)\n",
    "        x = nn.relu(x)\n",
    "        x = nn.Dense(n_classes)(x)\n",
    "        return x"
   ]
  },
  {
   "attachments": {},
   "cell_type": "markdown",
   "metadata": {},
   "source": [
    "Let's take a look at the summary of the model."
   ]
  },
  {
   "cell_type": "code",
   "execution_count": null,
   "metadata": {},
   "outputs": [],
   "source": [
    "dummy_input = jnp.ones((1, 2))\n",
    "dnn = DenseClassifier()\n",
    "print(dnn.tabulate(jax.random.PRNGKey(0), dummy_input))"
   ]
  },
  {
   "cell_type": "code",
   "execution_count": null,
   "metadata": {},
   "outputs": [],
   "source": [
    "X_train.shape, y_train.shape"
   ]
  },
  {
   "attachments": {},
   "cell_type": "markdown",
   "metadata": {},
   "source": [
    "It looks like our model has $162$ trainable parameters.  Let's train them.\n",
    "\n",
    "We're going to mostly cut and paste all the metric and training bits from our last Dense-NN modeling effort."
   ]
  },
  {
   "cell_type": "code",
   "execution_count": null,
   "metadata": {},
   "outputs": [],
   "source": [
    "from clu import metrics\n",
    "from flax.training import train_state\n",
    "from flax import struct\n",
    "import optax"
   ]
  },
  {
   "cell_type": "code",
   "execution_count": null,
   "metadata": {},
   "outputs": [],
   "source": [
    "@struct.dataclass\n",
    "class Metrics(metrics.Collection):\n",
    "    accuracy: metrics.Accuracy\n",
    "    loss: metrics.Average.from_output('loss')\n",
    "\n",
    "class TrainState(train_state.TrainState):\n",
    "   metrics: Metrics"
   ]
  },
  {
   "cell_type": "code",
   "execution_count": null,
   "metadata": {},
   "outputs": [],
   "source": [
    "def create_train_state(model, rng, learning_rate):\n",
    "    params = model.init(rng, dummy_input)['params']\n",
    "    tx = optax.adam(learning_rate)\n",
    "    return TrainState.create(\n",
    "        apply_fn=model.apply, params=params, tx=tx,\n",
    "        metrics=Metrics.empty())"
   ]
  },
  {
   "cell_type": "code",
   "execution_count": null,
   "metadata": {},
   "outputs": [],
   "source": [
    "@jax.jit\n",
    "def train_step(state, batch, label):\n",
    "  \"\"\"Train for a single step.\"\"\"\n",
    "  def loss_fn(params):\n",
    "    logits = state.apply_fn({'params': params}, batch)\n",
    "    loss = optax.softmax_cross_entropy_with_integer_labels(\n",
    "        logits=logits, labels=label).mean()\n",
    "    return loss\n",
    "  grad_fn = jax.grad(loss_fn)\n",
    "  grads = grad_fn(state.params)\n",
    "  state = state.apply_gradients(grads=grads)\n",
    "  return state"
   ]
  },
  {
   "cell_type": "code",
   "execution_count": null,
   "metadata": {},
   "outputs": [],
   "source": [
    "@jax.jit\n",
    "def compute_metrics(*, state, batch, label):\n",
    "    logits = state.apply_fn({'params': state.params}, batch)\n",
    "    loss = optax.softmax_cross_entropy_with_integer_labels(\n",
    "        logits=logits, labels=label).mean()\n",
    "    metric_updates = state.metrics.single_from_model_output(\n",
    "        logits=logits, labels=label, loss=loss)\n",
    "    metrics = state.metrics.merge(metric_updates)\n",
    "    state = state.replace(metrics=metrics)\n",
    "    return state"
   ]
  },
  {
   "cell_type": "code",
   "execution_count": null,
   "metadata": {},
   "outputs": [],
   "source": [
    "init_rng = jax.random.PRNGKey(0)\n",
    "\n",
    "learning_rate = 0.01\n",
    "\n",
    "state = create_train_state(dnn, init_rng, learning_rate)\n",
    "del init_rng  # Must not be used anymore."
   ]
  },
  {
   "cell_type": "code",
   "execution_count": null,
   "metadata": {},
   "outputs": [],
   "source": [
    "metrics_history = {'train_loss': [],\n",
    "                   'train_accuracy': [],\n",
    "                   'test_loss': [],\n",
    "                   'test_accuracy': []}"
   ]
  },
  {
   "cell_type": "code",
   "execution_count": null,
   "metadata": {},
   "outputs": [],
   "source": [
    "n_epochs = 50"
   ]
  },
  {
   "cell_type": "code",
   "execution_count": null,
   "metadata": {},
   "outputs": [],
   "source": [
    "step = 0\n",
    "\n",
    "for _ in range(n_epochs):\n",
    "  for batch, label in zip(X_train, y_train):\n",
    "\n",
    "    # Run optimization steps over training batches and compute batch metrics\n",
    "    state = train_step(state, batch, label) # get updated train state (which contains the updated parameters)\n",
    "    state = compute_metrics(state=state, batch=batch, label=label) # aggregate batch metrics\n",
    "\n",
    "    if (step+1) % n_batches == 0: # one training epoch has passed\n",
    "      for metric,value in state.metrics.compute().items(): # compute metrics\n",
    "        metrics_history[f'train_{metric}'].append(value) # record metrics\n",
    "      state = state.replace(metrics=state.metrics.empty()) # reset train_metrics for next training epoch\n",
    "\n",
    "      # Compute metrics on the test set after each training epoch\n",
    "      test_state = state\n",
    "      test_state = compute_metrics(state=test_state, batch=X_tst, label=y_tst)\n",
    "\n",
    "      for metric,value in test_state.metrics.compute().items():\n",
    "        metrics_history[f'test_{metric}'].append(value)\n",
    "\n",
    "      print(f\"train epoch: {(step+1) // n_batches}, \"\n",
    "            f\"loss: {metrics_history['train_loss'][-1]}, \"\n",
    "            f\"accuracy: {metrics_history['train_accuracy'][-1] * 100}\")\n",
    "      print(f\"test epoch: {(step+1) // n_batches}, \"\n",
    "            f\"loss: {metrics_history['test_loss'][-1]}, \"\n",
    "            f\"accuracy: {metrics_history['test_accuracy'][-1] * 100}\")\n",
    "    step += 1"
   ]
  },
  {
   "attachments": {},
   "cell_type": "markdown",
   "metadata": {},
   "source": [
    "Let's look at the accuracy over the training epochs."
   ]
  },
  {
   "cell_type": "code",
   "execution_count": null,
   "metadata": {},
   "outputs": [],
   "source": [
    "# Plot loss and accuracy in subplots\n",
    "fig, (ax1, ax2) = plt.subplots(1, 2, figsize=(15, 5))\n",
    "ax1.set_title('Loss')\n",
    "ax2.set_title('Accuracy')\n",
    "for dataset in ('train','test'):\n",
    "  ax1.plot(metrics_history[f'{dataset}_loss'], label=f'{dataset}_loss')\n",
    "  ax2.plot(metrics_history[f'{dataset}_accuracy'], label=f'{dataset}_accuracy')\n",
    "ax1.legend()\n",
    "ax2.legend()\n",
    "plt.show()\n",
    "plt.clf()"
   ]
  },
  {
   "attachments": {},
   "cell_type": "markdown",
   "metadata": {},
   "source": [
    "Not a ton of improvement on the testing loss — and remember that $\\sim 96\\%$ of the objects in our set are _not_ part of the cluster — getting accuracies around that is not very difficult. Let's get a visual of how the classifier is doing.\n",
    "\n",
    "Remember that the output of our network for a single object is a two-element vector, and a larger value in the first column indicates a non-cluster-member prediction, and a larger second value indicates a cluster-member prediction. "
   ]
  },
  {
   "cell_type": "code",
   "execution_count": null,
   "metadata": {},
   "outputs": [],
   "source": [
    "@jax.jit\n",
    "def pred_step(state, batch):\n",
    "  logits = state.apply_fn({'params': state.params}, batch)\n",
    "  return logits.argmax(axis=1)\n",
    "\n",
    "pred = pred_step(state, X_tst)\n",
    "pred"
   ]
  },
  {
   "cell_type": "code",
   "execution_count": null,
   "metadata": {},
   "outputs": [],
   "source": [
    "plt.hist(pred)"
   ]
  },
  {
   "attachments": {},
   "cell_type": "markdown",
   "metadata": {},
   "source": [
    "Instead of turning the output into discrete prediction, let's look at the difference (remember these are \"log\"its) of the values from the output nodes to see if it's picking up hints of something useful."
   ]
  },
  {
   "cell_type": "code",
   "execution_count": null,
   "metadata": {},
   "outputs": [],
   "source": [
    "outputs = state.apply_fn({'params': state.params}, X_tst)\n",
    "plt.hist(jnp.diff(outputs, axis=1).flatten());"
   ]
  },
  {
   "attachments": {},
   "cell_type": "markdown",
   "metadata": {},
   "source": [
    "It looks like none of the objects are confidently associated with the cluster (> 0).  Let's see if the ones that it's least certain about are at least in the right part of the sky."
   ]
  },
  {
   "cell_type": "code",
   "execution_count": null,
   "metadata": {
    "scrolled": true
   },
   "outputs": [],
   "source": [
    "plt.scatter(df.ra[~nans][test_sel], df.dec[~nans][test_sel], c=jnp.diff(outputs, axis=1), s=.1, cmap='viridis_r')\n",
    "plt.colorbar()\n",
    "\n",
    "plt.gca().invert_xaxis()"
   ]
  },
  {
   "attachments": {},
   "cell_type": "markdown",
   "metadata": {},
   "source": [
    "Interesting.  So even though it's not able to make any confident predictions for stars being in the cluster, it's at least able to tell the part of the sky that's most likely to contain them...."
   ]
  },
  {
   "cell_type": "code",
   "execution_count": null,
   "metadata": {},
   "outputs": [],
   "source": []
  }
 ],
 "metadata": {
  "kernelspec": {
   "display_name": "scicomp",
   "language": "python",
   "name": "python3"
  },
  "language_info": {
   "codemirror_mode": {
    "name": "ipython",
    "version": 3
   },
   "file_extension": ".py",
   "mimetype": "text/x-python",
   "name": "python",
   "nbconvert_exporter": "python",
   "pygments_lexer": "ipython3",
   "version": "3.10.15"
  }
 },
 "nbformat": 4,
 "nbformat_minor": 4
}
